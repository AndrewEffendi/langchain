{
 "cells": [
  {
   "cell_type": "markdown",
   "id": "245a954a",
   "metadata": {},
   "source": [
    "# DuckDuckGo Search\n",
    "\n",
    "This guide shows over how to use the DuckDuckGo search component.\n",
    "\n",
    "## Usage"
   ]
  },
  {
   "cell_type": "code",
   "execution_count": null,
   "id": "21e46d4d",
   "metadata": {},
   "outputs": [],
   "source": [
    "%pip install -qU duckduckgo-search langchain-community"
   ]
  },
  {
   "cell_type": "code",
   "execution_count": 2,
   "id": "ac4910f8",
   "metadata": {},
   "outputs": [
    {
     "data": {
      "text/plain": [
       "'When Ann Dunham and Barack Obama Sr. tied the knot, they kept the news to themselves. \"Nobody was invited,\" Neil Abercrombie, a college friend of Obama Sr., told Time in 2008. The wedding came as ... As the head of the government of the United States, the president is arguably the most powerful government official in the world. The president is elected to a four-year term via an electoral college system. Since the Twenty-second Amendment was adopted in 1951, the American presidency has been Most common names of U.S. presidents 1789-2021. Published by. Aaron O\\'Neill , Jul 4, 2024. The most common first name for a U.S. president is James, followed by John and then William. Six U.S ... Obama\\'s personal charisma, stirring oratory, and his campaign promise to bring change to the established political system resonated with many Democrats, especially young and minority voters. On January 3, 2008, Obama won a surprise victory in the first major nominating contest, the Iowa caucus, over Sen. Hillary Clinton, who was the overwhelming favorite to win the nomination. Former President Barack Obama released a letter about President Biden\\'s decision to drop out of the 2024 presidential race. Notably, Obama did not name or endorse Vice President Kamala Harris.'"
      ]
     },
     "execution_count": 2,
     "metadata": {},
     "output_type": "execute_result"
    }
   ],
   "source": [
    "from langchain_community.tools import DuckDuckGoSearchRun\n",
    "\n",
    "search = DuckDuckGoSearchRun()\n",
    "\n",
    "search.invoke(\"Obama's first name?\")"
   ]
  },
  {
   "cell_type": "markdown",
   "id": "889027d4",
   "metadata": {},
   "source": [
    "To get more additional information (e.g. link, source) use `DuckDuckGoSearchResults()`"
   ]
  },
  {
   "cell_type": "code",
   "execution_count": 3,
   "id": "95635444",
   "metadata": {},
   "outputs": [
    {
     "data": {
      "text/plain": [
       "[{\"snippet\": \"Barack and Michelle Obama will make their first campaign appearances alongside Kamala Harris at rallies in Georgia and Michigan. By Reid J. Epstein Reporting from Ashwaubenon, Wis. Here come the ...\", \"title\": \"Harris Will Join Michelle Obama and Barack Obama on Campaign Trail\", \"link\": \"https://www.nytimes.com/2024/10/18/us/politics/kamala-harris-michelle-obama-barack-obama.html\"}, {\"snippet\": \"Obama's leaving office was 'a turning point,' Mirsky said. 'That was the last time anybody felt normal.' A few feet over, a 64-year-old physics professor named Eric Swanson who had grown ...\", \"title\": \"Obama's reemergence on the campaign trail for Harris comes as he ...\", \"link\": \"https://www.cnn.com/2024/10/13/politics/obama-campaign-trail-harris-biden/index.html\"}, {\"snippet\": \"WASHINGTON (AP) — Vice President Kamala Harris will make her first campaign appearances with Barack Obama and Michelle Obama, two of the most popular figures in the Democratic Party, at get-out-the-vote events this month in Georgia and Michigan.. It will be the former first lady's first time hitting the trail for Harris. Harris, the Democratic presidential nominee, is set to appear with ...\", \"title\": \"Harris will campaign with the Obamas later this month in Georgia and ...\", \"link\": \"https://apnews.com/article/harris-barack-michelle-obama-b31b662260f8e22131123a0d32888b56\"}, {\"snippet\": \"Barack Obama was born on August 4, 1961, in Honolulu, Hawaii. He is the 44th president of the United States and the first African American to hold the office. Learn more about his life, education, presidency, books, and awards.\", \"title\": \"Barack Obama | Biography, Parents, Education, Presidency, Books ...\", \"link\": \"https://www.britannica.com/biography/Barack-Obama\"}]"
      ]
     },
     "execution_count": 3,
     "metadata": {},
     "output_type": "execute_result"
    }
   ],
   "source": [
    "from langchain_community.tools import DuckDuckGoSearchResults\n",
    "\n",
    "search = DuckDuckGoSearchResults()\n",
    "\n",
    "search.invoke(\"Obama\")"
   ]
  },
  {
   "cell_type": "markdown",
   "id": "e17ccfe7",
   "metadata": {},
   "source": [
    "You can also just search for news articles. Use the keyword `backend=\"news\"`"
   ]
  },
  {
   "cell_type": "code",
   "execution_count": 4,
   "id": "21afe28d",
   "metadata": {},
   "outputs": [
    {
     "data": {
      "text/plain": [
       "[{'snippet': \"The former president used his predecessor's middle name as he criticized him during the Al Smith charity dinner.\", 'title': \"Donald Trump's Barack Obama Remarks Spark Fury from Online Critics\", 'link': 'https://www.msn.com/en-us/news/politics/donald-trumps-barack-obama-remarks-spark-fury-from-online-critics/ar-AA1sw0Io', 'date': '2024-10-18T17:02:36+00:00', 'source': 'Newsweek on MSN.com'}, {'snippet': 'Barack Obama is hitting the Arizona campaign trail for Kamala Harris in the final weeks of the presidential race.', 'title': 'Barack Obama to campaign for Kamala Harris in Tucson: What to know', 'link': 'https://www.statesman.com/story/news/politics/elections/2024/10/18/barack-obama-campaigns-for-kamala-harris-in-tucson-what-to-know/75694640007/', 'date': '2024-10-18T15:04:00+00:00', 'source': 'Austin American-Statesman'}, {'snippet': 'Former first lady Michelle Obama will join former President Barack Obama and Vice President Kamala Harris at rallies next week.', 'title': \"Harris' Final Push Involves Michelle Obama and Pursuing Crucial Black Voters\", 'link': 'https://www.msn.com/en-us/news/other/harris-final-push-involves-michelle-obama-and-pursuing-crucial-black-voters/ar-AA1swkeu', 'date': '2024-10-18T18:46:00+00:00', 'source': 'U.S. News & World Report on MSN.com'}, {'snippet': 'While former President Barack Obama has become increasingly involved in the Harris campaign, the former first lady has been conspicuously absent. The Harris campaign announced that this will change on Saturday, Oct. 26, when she is set to appear alongside Harris in Michigan.', 'title': 'Michelle Obama moves up Harris campaign debut to stump in Michigan next week', 'link': 'https://www.msn.com/en-us/news/politics/michelle-obama-moves-up-harris-campaign-debut-to-stump-in-michigan-next-week/ar-AA1svasJ', 'date': '2024-10-18T16:45:00+00:00', 'source': 'Washington Examiner on MSN.com'}]"
      ]
     },
     "execution_count": 4,
     "metadata": {},
     "output_type": "execute_result"
    }
   ],
   "source": [
    "search = DuckDuckGoSearchResults(backend=\"news\")\n",
    "\n",
    "search.invoke(\"Obama\")"
   ]
  },
  {
   "cell_type": "markdown",
   "id": "5f7c0129",
   "metadata": {},
   "source": [
    "You can also directly pass a custom `DuckDuckGoSearchAPIWrapper` to `DuckDuckGoSearchResults` to provide more control over the search results."
   ]
  },
  {
   "cell_type": "code",
   "execution_count": 5,
   "id": "c7ab3b55",
   "metadata": {},
   "outputs": [
    {
     "data": {
      "text/plain": [
       "[{'snippet': \"Megan Lebowitz. Former President Barack Obama will campaign for Harris in Tucson, Arizona, today. He's set to hit a string of swing states in the final stretch of the campaign, including Nevada ...\", 'title': 'Election 2024 live updates: Barack Obama to stump for Harris; Trump to ...', 'link': 'https://www.nbcnews.com/politics/2024-election/live-blog/trump-harris-election-live-updates-rcna175182'}, {'snippet': 'Three former presidents — with 20 years of Oval Office experience among them — will hit the campaign trail on Friday: Barack Obama and Bill Clinton will stump for Vice President Kamala Harris ...', 'title': 'Trump, Harris and Obama Hit the Campaign Trail: Election 2024 Live ...', 'link': 'https://www.nytimes.com/live/2024/10/18/us/harris-trump-election'}, {'snippet': 'Befindlichkeiten von Politikern: Gedemütigter Donald Trump, gekränkter Wladimir Putin, überheblicher Barack Obama. Es hätte auch alles anders kommen können. Es gibt keinen stumpfsinnigeren ...', 'title': 'Was Vorfälle vor 20 Jahren mit der Situation heute zu tun haben', 'link': 'https://www.diepresse.com/18982635/was-vorfaelle-vor-20-jahren-mit-der-situation-heute-zu-tun-haben'}, {'snippet': \"Michelle Obama is set to campaign for the first time this election cycle, appearing with Harris on Saturday, Oct. 26 in Michigan. The former first lady's pull-no-punches speech at the Democratic ...\", 'title': 'Obamas set to hit campaign trail with Kamala Harris for first time', 'link': 'https://www.straitstimes.com/world/obamas-set-to-hit-campaign-trail-with-kamala-harris-for-first-time'}]"
      ]
     },
     "execution_count": 5,
     "metadata": {},
     "output_type": "execute_result"
    }
   ],
   "source": [
    "from langchain_community.utilities import DuckDuckGoSearchAPIWrapper\n",
    "\n",
    "wrapper = DuckDuckGoSearchAPIWrapper(region=\"de-de\", time=\"d\", max_results=2)\n",
    "\n",
    "search = DuckDuckGoSearchResults(api_wrapper=wrapper, source=\"news\")\n",
    "\n",
    "search.invoke(\"Obama\")"
   ]
  },
  {
   "cell_type": "markdown",
   "id": "f3df6b8b",
   "metadata": {},
   "source": [
    "## Related\n",
    "\n",
    "- [How to use a chat model to call tools](https://python.langchain.com/docs/how_to/tool_calling/)"
   ]
  }
 ],
 "metadata": {
  "kernelspec": {
   "display_name": "Python 3 (ipykernel)",
   "language": "python",
   "name": "python3"
  },
  "language_info": {
   "codemirror_mode": {
    "name": "ipython",
    "version": 3
   },
   "file_extension": ".py",
   "mimetype": "text/x-python",
   "name": "python",
   "nbconvert_exporter": "python",
   "pygments_lexer": "ipython3",
   "version": "3.10.5"
  },
  "vscode": {
   "interpreter": {
    "hash": "a0a0263b650d907a3bfe41c0f8d6a63a071b884df3cfdc1579f00cdc1aed6b03"
   }
  }
 },
 "nbformat": 4,
 "nbformat_minor": 5
}
